{
 "cells": [
  {
   "cell_type": "markdown",
   "metadata": {},
   "source": [
    "# Cryptography (CC4017) -- Week 4"
   ]
  },
  {
   "cell_type": "markdown",
   "metadata": {},
   "source": [
    "## Exercice 1"
   ]
  },
  {
   "cell_type": "markdown",
   "metadata": {},
   "source": [
    "Consider the following polynomials modulo 2:\n",
    "\n",
    "$$ x^3 + x + 1 $$\n",
    "$$ x^4 + x^2 + 1 $$ \n",
    "$$ x^4 + x^3 + x^2 + 1 $$"
   ]
  },
  {
   "cell_type": "markdown",
   "metadata": {},
   "source": [
    "### Exercicio 1.1\n",
    "Start with different initial (non-zero) states and test the periods. What can you conclude about the LFSRs?"
   ]
  },
  {
   "cell_type": "code",
   "execution_count": 10,
   "metadata": {},
   "outputs": [
    {
     "name": "stdout",
     "output_type": "stream",
     "text": [
      "\n",
      "Testing LFSR with polynomial x^3 + x + 1\n",
      "Initial state: [1, 0, 0] -> Period: 7, Sequence: [0, 0, 1, 1, 1, 0, 1]\n",
      "Initial state: [1, 1, 1] -> Period: 7, Sequence: [1, 1, 1, 0, 1, 0, 0]\n",
      "Initial state: [0, 1, 0] -> Period: 7, Sequence: [0, 1, 0, 0, 1, 1, 1]\n",
      "\n",
      "Testing LFSR with polynomial x^4 + x + 1\n",
      "Initial state: [1, 0, 0, 1] -> Period: 15, Sequence: [1, 0, 0, 1, 0, 0, 0, 1, 1, 1, 1, 0, 1, 0, 1]\n",
      "Initial state: [1, 1, 0, 1] -> Period: 15, Sequence: [1, 0, 1, 1, 0, 0, 1, 0, 0, 0, 1, 1, 1, 1, 0]\n",
      "Initial state: [0, 1, 1, 0] -> Period: 15, Sequence: [0, 1, 1, 0, 0, 1, 0, 0, 0, 1, 1, 1, 1, 0, 1]\n",
      "\n",
      "Testing LFSR with polynomial x^4 + x^3 + x^2 + 1\n",
      "Initial state: [1, 0, 0, 1] -> Period: 7, Sequence: [1, 0, 0, 1, 1, 1, 0]\n",
      "Initial state: [1, 1, 0, 1] -> Period: 7, Sequence: [1, 0, 1, 1, 0, 0, 0]\n",
      "Initial state: [0, 1, 1, 0] -> Period: 7, Sequence: [0, 1, 1, 0, 0, 0, 1]\n"
     ]
    }
   ],
   "source": [
    "def lfsr_feedback(register, taps):\n",
    "    new_bit = 0\n",
    "    for tap in taps:\n",
    "        new_bit ^= register[tap]\n",
    "    return new_bit\n",
    "\n",
    "def run_lfsr(polynomial, init_state, max_steps=100):\n",
    "    state = init_state.copy()\n",
    "    seen_states = {}\n",
    "    sequence = []\n",
    "    \n",
    "    for step in range(max_steps):\n",
    "        state_tuple = tuple(state)\n",
    "        if state_tuple in seen_states:\n",
    "            period = step - seen_states[state_tuple]\n",
    "            return sequence, period\n",
    "        \n",
    "        seen_states[state_tuple] = step\n",
    "        sequence.append(state[-1])  # Take the output bit\n",
    "        new_bit = lfsr_feedback(state, polynomial)\n",
    "        state = [new_bit] + state[:-1]  # Shift register\n",
    "    \n",
    "    return sequence, -1\n",
    "\n",
    "polynomials = {\n",
    "    \"x^3 + x + 1\": [2, 0],  # Corresponds to x^3 + x + 1\n",
    "    \"x^4 + x + 1\": [3, 0],  # Corresponds to x^4 + x + 1\n",
    "    \"x^4 + x^3 + x^2 + 1\": [3, 2, 1]  # Corresponds to x^4 + x^3 + x^2 + 1\n",
    "}\n",
    "\n",
    "initial_states = {\n",
    "    \"x^3 + x + 1\": [[1, 0, 0], [1, 1, 1], [0, 1, 0]],  # 3-bit states\n",
    "    \"x^4 + x + 1\": [[1, 0, 0, 1], [1, 1, 0, 1], [0, 1, 1, 0]],  # 4-bit states\n",
    "    \"x^4 + x^3 + x^2 + 1\": [[1, 0, 0, 1], [1, 1, 0, 1], [0, 1, 1, 0]]  # 4-bit states\n",
    "}\n",
    "\n",
    "for poly_name, taps in polynomials.items():\n",
    "    print(f\"\\nTesting LFSR with polynomial {poly_name}\")\n",
    "    for init_state in initial_states[poly_name]:\n",
    "        sequence, period = run_lfsr(taps, init_state)\n",
    "        print(f\"Initial state: {init_state} -> Period: {period}, Sequence: {sequence}\")"
   ]
  },
  {
   "cell_type": "markdown",
   "metadata": {},
   "source": [
    "The primary conclusion one can draw from testing the periods of these LFSRs is the significance of irreducibility in polynomial selection for maximal-length sequences. Irreducible polynomials ensure that the generated sequences are not only long but also exhibit properties akin to randomness, which are pivotal in cryptographic applications."
   ]
  },
  {
   "cell_type": "markdown",
   "metadata": {},
   "source": [
    "### Exercicio 1.2\n",
    "Can you ascertain which is the best polynomial for an LFSR?"
   ]
  },
  {
   "cell_type": "markdown",
   "metadata": {},
   "source": [
    "Determining the best polynomial for an LFSR involves examining both irreducibility and the maximum period. <br>\n",
    "\n",
    "Both $x⁴ + x + 1 $ and $x⁴ + x³ + x² + 1$ can present a maximum period of 15, ($ 2^n -1$), yet one must consider additional factors such as implementation efficiency and ease of state recovery. <br>\n",
    "\n",
    "Therefore, the polynomial $x⁴ + x + 1 $ could be deemed superior due to its simplicity and well-established cryptographic utility."
   ]
  },
  {
   "cell_type": "markdown",
   "metadata": {},
   "source": [
    "### Exercicio 1.3\n",
    "Check if any of these is an irreducible polynomial in sage. What does this say about the polynomial, when used\n",
    "in LFSRs?"
   ]
  },
  {
   "cell_type": "markdown",
   "metadata": {},
   "source": [
    "![alt text](image.png)"
   ]
  },
  {
   "cell_type": "markdown",
   "metadata": {},
   "source": [
    "If a polynomial is irreducible, it cannot be factored further and is often a good choice for LFSRs. This property ensures that the LFSR will produce a maximum-length sequence if the initial state is non-zero. <br>\n",
    "\n",
    "If any of the polynomials are **not irreducible**, it could mean they won't generate the maximum period, and thus they may not be as effective for generating pseudo-random sequences.\n",
    "\n",
    "The last polynomial, $x⁴ + x³ + x² + 1$, is not irreducible, so instead of getting the maximum period of 15, the actual period is 7 to prove that is not effective for getting PRS."
   ]
  },
  {
   "cell_type": "markdown",
   "metadata": {},
   "source": [
    "## Exercice 2"
   ]
  },
  {
   "cell_type": "markdown",
   "metadata": {},
   "source": [
    "Obtain a Python implementation of RC4 from the web and use it to encrypt a file."
   ]
  },
  {
   "cell_type": "code",
   "execution_count": 7,
   "metadata": {},
   "outputs": [
    {
     "name": "stdout",
     "output_type": "stream",
     "text": [
      "Key (hex): 96fc06c579f8c350a82e36b477636700\n",
      "Ciphertext (hex): 14467e981ef2f968d7d78adc31476e61bc23291155266793664de14e1dd7fe96338d\n"
     ]
    }
   ],
   "source": [
    "from Crypto.Cipher import ARC4 # type: ignore\n",
    "from Crypto.Random import get_random_bytes # type: ignore\n",
    "import binascii\n",
    "\n",
    "# Generate key\n",
    "key = get_random_bytes(16)  # 128-bit key\n",
    "\n",
    "# Example plaintext\n",
    "plaintext = b'Hello, OpenSSL compatibility test!'  # Byte array input\n",
    "\n",
    "# Create RC4 cipher object\n",
    "cipher = ARC4.new(key)\n",
    "\n",
    "# Encrypt the plaintext\n",
    "ciphertext = cipher.encrypt(plaintext)\n",
    "\n",
    "# Print key and ciphertext in hexadecimal\n",
    "print(\"Key (hex):\", binascii.hexlify(key).decode())\n",
    "print(\"Ciphertext (hex):\", binascii.hexlify(ciphertext).decode())"
   ]
  },
  {
   "cell_type": "markdown",
   "metadata": {},
   "source": [
    "## Exercice 3\n",
    "\n",
    "Check that this algorithm is compatible with OpenSSL"
   ]
  },
  {
   "cell_type": "markdown",
   "metadata": {},
   "source": [
    "Using the output from the last exercice:\n",
    "\n",
    "Key (hex): 96fc06c579f8c350a82e36b477636700 <br>\n",
    "\n",
    "Ciphertext (hex): 14467e981ef2f968d7d78adc31476e61bc23291155266793664de14e1dd7fe96338d\n",
    "\n",
    "\n",
    "And the command \n",
    "\n",
    "> echo -n \"ciphertext\" | xxd -r -p | openssl rc4 -d -K key\n"
   ]
  },
  {
   "cell_type": "markdown",
   "metadata": {},
   "source": [
    "![alt text](image-1.png)"
   ]
  },
  {
   "cell_type": "markdown",
   "metadata": {},
   "source": [
    "We can see that the algorithm is compatible with OpenSSL, but we need to pass the values in hexadecimal format."
   ]
  },
  {
   "cell_type": "markdown",
   "metadata": {},
   "source": [
    "## Exercice 4\n",
    "\n",
    "Demonstrate with OpenSSL that ChaCha20 produces a repeated ciphertext if you encrypt the same file with the same key and nonce."
   ]
  },
  {
   "cell_type": "markdown",
   "metadata": {},
   "source": [
    "Let's create a simple file to encrypt.\n",
    "\n",
    "> echo \"This is a test file for ChaCha20 encryption.\" > testfile.txt"
   ]
  },
  {
   "cell_type": "markdown",
   "metadata": {},
   "source": [
    "Now lets run the openssl with the following command:\n",
    "\n",
    "> openssl enc -chacha20 -in testfile.txt -out encrypted1.bin -K 00112233445566778899aabbccddeeff00112233445566778899aabbccddeeff -iv 00112233445566\n"
   ]
  },
  {
   "cell_type": "markdown",
   "metadata": {},
   "source": [
    "Now lets encrypt the same file again using the same key and nonce\n",
    "\n",
    "> openssl enc -chacha20 -in testfile.txt -out encrypted2.bin -K 00112233445566778899aabbccddeeff00112233445566778899aabbccddeeff -iv 00112233445566\n"
   ]
  },
  {
   "cell_type": "markdown",
   "metadata": {},
   "source": [
    "We can now check if the two ciphertexts are identical using the cmp command\n",
    "\n",
    "> cmp encrypted1.bin encrypted2.bin\n",
    "\n",
    "cmp shows no output, meaning that the files are identical, confirming that ChaCha20 produces the same ciphertext when encrypting the same plaintext with the same key and nonce."
   ]
  },
  {
   "cell_type": "markdown",
   "metadata": {},
   "source": [
    "## Exercice 5"
   ]
  },
  {
   "cell_type": "markdown",
   "metadata": {},
   "source": [
    "In questions 2 and 4, compare the size of the plaintext with the size of the ciphertext. What can you conclude\n",
    "with respect, for example, to AES-CTR and AES-CBC modes studied last week."
   ]
  },
  {
   "cell_type": "markdown",
   "metadata": {},
   "source": [
    "ChaCha20 and AES-CTR will produce ciphertexts the same size as the plaintext because they are stream ciphers.\n",
    "\n",
    "AES-CBC will typically produce a larger ciphertext due to padding\n",
    "\n",
    "ChaCha20 and AES-CTR are stream ciphers, and their ciphertext size matches the plaintext size.\n",
    "AES-CBC is a block cipher mode that requires padding, so the ciphertext is typically larger than the plaintext when padding is added."
   ]
  }
 ],
 "metadata": {
  "kernelspec": {
   "display_name": "Python 3",
   "language": "python",
   "name": "python3"
  },
  "language_info": {
   "codemirror_mode": {
    "name": "ipython",
    "version": 3
   },
   "file_extension": ".py",
   "mimetype": "text/x-python",
   "name": "python",
   "nbconvert_exporter": "python",
   "pygments_lexer": "ipython3",
   "version": "3.12.6"
  }
 },
 "nbformat": 4,
 "nbformat_minor": 2
}
