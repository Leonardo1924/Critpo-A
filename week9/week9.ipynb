{
 "cells": [
  {
   "cell_type": "markdown",
   "metadata": {},
   "source": [
    "# Cryptography (CC4017) -- Week 9"
   ]
  },
  {
   "cell_type": "markdown",
   "metadata": {},
   "source": [
    "## Exercice 1:\n",
    "\n",
    "Compute the following discrete logarithms:\n",
    "\n",
    "a. $log_2(13) $ in $ \\mathbb{Z}_{23} $ ,i.e., find $x$ s.t. $2^{x} \\equiv 13 \\ (mod \\ 23).$\n",
    "\n",
    "b. $log_{10}(22) $ in $ \\mathbb{Z}_{47}.$\n",
    "\n",
    "c. $log_{627}(608) $ in $ \\mathbb{Z}_{941}.$"
   ]
  },
  {
   "cell_type": "markdown",
   "metadata": {},
   "source": [
    "To solve these problems we can use the baby-step giant-step algorithm. This algorithm is a meet-in-the-middle algorithm that finds the discrete logarithm of a number $y$ with respect to a base $g$ in a group $G$. "
   ]
  },
  {
   "cell_type": "code",
   "execution_count": 3,
   "metadata": {},
   "outputs": [
    {
     "name": "stdout",
     "output_type": "stream",
     "text": [
      "7\n",
      "11\n",
      "18\n"
     ]
    }
   ],
   "source": [
    "def baby_step_giant_step(g, h, p):\n",
    "    from math import isqrt\n",
    "    from collections import defaultdict\n",
    "\n",
    "    n = isqrt(p - 1) + 1\n",
    "\n",
    "    # Baby step\n",
    "    baby_steps = defaultdict(int)\n",
    "    for j in range(n):\n",
    "        baby_steps[pow(g, j, p)] = j\n",
    "\n",
    "    # Giant step\n",
    "    g_inv = pow(g, p - 2, p)\n",
    "    g_inv_n = pow(g_inv, n, p)\n",
    "    value = h\n",
    "    for i in range(n):\n",
    "        if value in baby_steps:\n",
    "            return i * n + baby_steps[value]\n",
    "        value = (value * g_inv_n) % p\n",
    "\n",
    "    return None\n",
    "\n",
    "# $log_2(13) $ in $ \\mathbb{Z}_{23} $ ,i.e., find $x$ s.t. $2^{x} \\equiv 13 \\ (mod \\ 23).$\n",
    "g = 2\n",
    "y = 13\n",
    "G = 23\n",
    "result_a = baby_step_giant_step(g, y, G)\n",
    "print(result_a)\n",
    "\n",
    "\n",
    "# $log_{10}(22) $ in $ \\mathbb{Z}_{47}.$\n",
    "g = 10\n",
    "y = 22\n",
    "G = 47\n",
    "result_b = baby_step_giant_step(g, y, G)\n",
    "print(result_b)\n",
    "\n",
    "# $log_{627}(608) $ in $ \\mathbb{Z}_{941}.$\n",
    "g = 627\n",
    "y = 608\n",
    "G = 941\n",
    "result_c = baby_step_giant_step(g, y, G)\n",
    "print(result_c)\n"
   ]
  },
  {
   "cell_type": "markdown",
   "metadata": {},
   "source": [
    "## Exercice 2\n",
    "\n",
    "Alice and Bob agree to use the prime $ p = 1373 $ and the base $ g = 2 $ for a Diffie-Hellman key exchange.\n",
    "Alice sends Bob the value $A=974$. Bob asks your assistance, so you tell him to use the secret exponent $b=871$.\n",
    "What is the value B should Bob send to Alice, and what is the secret shared value? \n",
    "Can you guess the secret exponent used by Alice? \n",
    "Check the exponent used by Alice that you found to see if it matches the secret shared value computed by Bob."
   ]
  },
  {
   "cell_type": "code",
   "execution_count": 5,
   "metadata": {},
   "outputs": [
    {
     "name": "stdout",
     "output_type": "stream",
     "text": [
      "Bob Should Send B = 805 to Alice\n",
      "The shared secret value for Bob is 397\n",
      "The secret exponent used by Alice is 587\n",
      "The shared secret value for Alice is 397\n",
      "The secret shared values are same\n"
     ]
    }
   ],
   "source": [
    "# Given the values \n",
    "p = 1373\n",
    "g = 2\n",
    "A = 974\n",
    "b = 871\n",
    "\n",
    "# STEP 1 : Find the value of B for Bob send to Alice\n",
    "B = pow(g,b,p)\n",
    "print(f\"Bob Should Send B = {B} to Alice\")\n",
    "\n",
    "# STEP 2: Compute the secret shared value\n",
    "secret_shared_bob = pow(A,b,p)\n",
    "print(f\"The shared secret value for Bob is {secret_shared_bob}\")\n",
    "\n",
    "# STEP 3 : Guess thhe secret exponent used by Alice\n",
    "secret_exponet = baby_step_giant_step(g,A,p)\n",
    "print(f\"The secret exponent used by Alice is {secret_exponet}\")\n",
    "\n",
    "# STEP 4 : Verify the secret exponent\n",
    "secret_shared_alice = pow(B,secret_exponet,p)\n",
    "print(f\"The shared secret value for Alice is {secret_shared_alice}\")\n",
    "\n",
    "if secret_shared_alice == secret_shared_bob:\n",
    "    print(\"The secret shared values are same\")\n",
    "else:\n",
    "    print(\"The secret shared values are not same\")\n"
   ]
  },
  {
   "cell_type": "markdown",
   "metadata": {},
   "source": [
    "## EXERCICE 3\n",
    "\n",
    "In the Diffie-Hellman protocol, and given the public parameters $ p $ , prime, and $ g ∈ \\mathbb{Z}_{P}$ , each participant selects a secret number $ x $ and sends the other participant $g^x \\ mod \\ p$. What would happen if the participants sent each other $x^g \\ mod \\ p $ instead? Give one method Alice and Bob could use to agree on a key. Can Eve (a passive attacker) break the system without finding the secret numbers? Can Eve find the secret numbers?"
   ]
  },
  {
   "cell_type": "markdown",
   "metadata": {},
   "source": [
    ">So, lets see what would happen if participants sent each other $x^g \\ mod \\ p $ instead of $g^x \\ mod \\ p$.\n",
    ">\n",
    ">First, we will experiment a loss of security in the system. The Diffie-Hellman protocol relies on the hardness of the discrete logarithm problem. By sending $x^g \\ mod \\ p $ instead of $g^x \\ mod \\ p$, there sending a value that is much easier to reverse-engineer. So the hardness of the discrete logarithm problem is gone.\n",
    ">\n",
    "> Second, we will have a predictable problem. Since $ g $ is a public parameter, the value of $ x^g \\ mod \\ p $ will be easy to compute, and the attacker can easily find the secret number.\n",
    "> \n",
    "> For alice and bob to agree on a key, the solution is to use a different criptographic protocol that does not rely on a discrete logarithm problem. Using a symmetric key encryption algorithm like AES, or a public key infrastructure like PKI would be a better solution to securely exchange keys.\n",
    ">\n",
    "> Using the $x^g \\ mod \\ p $ which is a value easy to compute, Eve can intercept the values sent by Alice and Bob and easily compute the shared secret key. Since $ g $ is a public parameter, Eve can try different values of $ x $ and compute  $x^g \\ mod \\ p $ until she finds a match with the values sent by Alice and Bob. Much more easily to do than the discrete logarithm problem in my opinion.\n"
   ]
  }
 ],
 "metadata": {
  "kernelspec": {
   "display_name": "Python 3",
   "language": "python",
   "name": "python3"
  },
  "language_info": {
   "codemirror_mode": {
    "name": "ipython",
    "version": 3
   },
   "file_extension": ".py",
   "mimetype": "text/x-python",
   "name": "python",
   "nbconvert_exporter": "python",
   "pygments_lexer": "ipython3",
   "version": "3.12.7"
  }
 },
 "nbformat": 4,
 "nbformat_minor": 2
}
