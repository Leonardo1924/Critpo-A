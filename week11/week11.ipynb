{
 "cells": [
  {
   "cell_type": "markdown",
   "metadata": {},
   "source": [
    "# Cryptography (CC4017) -- Week 11"
   ]
  },
  {
   "cell_type": "markdown",
   "metadata": {},
   "source": [
    "## Exercise 1\n",
    "\n",
    "In the context of PKI\n",
    "\n",
    "(a) Describe what is the accepted procedure of a client when receives a public-key certificate\n",
    "from a web server?\n",
    "\n",
    ">1. **Receive Certificate**: The client receives the public-key certificate from the web server during the SSL/TLS handshake.\n",
    ">\n",
    ">2. **Verify Certificate Chain**: The client verifies the certificate chain up to a trusted root certificate authority (CA). This involves checking each certificate in the chain to ensure it is signed by a trusted CA.\n",
    ">\n",
    ">3. **Check Validity Period**: The client checks the certificate's validity period to ensure it is currently valid (not expired or not yet valid).\n",
    ">\n",
    ">4. **Check Revocation Status**: The client checks if the certificate has been revoked. This can be done using Certificate Revocation Lists (CRLs) or the Online Certificate Status Protocol (OCSP).\n",
    ">\n",
    ">5. **Verify Domain Name**: The client verifies that the domain name in the certificate matches the domain name of the web server.\n",
    ">\n",
    ">6. **Establish Secure Connection**: If all checks pass, the client establishes a secure connection with the web server using the public key in the certificate\n",
    ">\n",
    "\n",
    "(b) Describe the process of certificate revocation and what are the possible reasons to apply\n",
    "it.\n",
    "\n",
    ">**Process of Certificate Revocation**:\n",
    ">\n",
    ">1. **Revocation Request**: The certificate owner or the CA identifies the need to revoke a certificate.\n",
    ">\n",
    ">2. **Update CRL/OCSP**: The CA updates its Certificate Revocation List (CRL) or Online Certificate Status Protocol (OCSP) responder to include the revoked certificate.\n",
    ">\n",
    ">3. **Distribution**: The updated CRL is distributed to clients, or the OCSP responder is queried by clients to check the revocation status.\n",
    ">\n",
    ">4. **Client Check**: Clients check the CRL or query the OCSP responder during the certificate verification process to ensure the certificate has not been revoked.\n",
    ">\n",
    ">**Possible Reasons for Certificate Revocation**:\n",
    ">\n",
    ">1. **Compromise of Private Key**: If the private key associated with the certificate is compromised, the certificate must be revoked to prevent misuse.\n",
    ">\n",
    ">2. **CA Compromise**: If the CA that issued the certificate is compromised, all certificates issued by that CA may need to be revoked.\n",
    ">\n",
    ">3. **Change of Information**: If the information in the certificate (e.g., domain name, organization name) changes, the certificate may be revoked and reissued with the updated information.\n",
    ">\n",
    ">4. **Violation of CA Policy**: If the certificate owner violates the CA's policies or terms of service, the CA may revoke the certificate.\n",
    ">\n",
    "> 5. **Certificate Expiry**: Although not a revocation reason per se, expired certificates are no longer valid and should not be used.\n",
    ">"
   ]
  },
  {
   "cell_type": "markdown",
   "metadata": {},
   "source": [
    "## Exercise 2\n",
    "\n",
    "In a Pailier’s scheme chanel, with private key n = 620496404349687915307910174617, we intercepted the cyphered message \n",
    "\n",
    "c = 358624662650643040547102063483144791182626860568435345308004. \n",
    "\n",
    "Can you recover the original plaintext?"
   ]
  },
  {
   "cell_type": "code",
   "execution_count": 1,
   "metadata": {},
   "outputs": [
    {
     "name": "stdout",
     "output_type": "stream",
     "text": [
      "Prime factors and their multiplicities:\n",
      "802829923639097^1\n",
      "772886493240161^1\n"
     ]
    }
   ],
   "source": [
    "from sympy import factorint\n",
    "\n",
    "# The large number to be factorized\n",
    "large_number =  620496404349687915307910174617\n",
    "\n",
    "# Perform prime factorization\n",
    "factors = factorint(large_number)\n",
    "\n",
    "# Display the results\n",
    "print(\"Prime factors and their multiplicities:\")\n",
    "for prime, multiplicity in factors.items():\n",
    "    print(f\"{prime}^{multiplicity}\")"
   ]
  },
  {
   "cell_type": "code",
   "execution_count": 3,
   "metadata": {},
   "outputs": [
    {
     "name": "stdout",
     "output_type": "stream",
     "text": [
      "The decrypted message is: 455667\n"
     ]
    }
   ],
   "source": [
    "from math import gcd \n",
    "from sympy import lcm, mod_inverse\n",
    "# Let n = 802829923639097 x 772886493240161 = 620496404349687915307910174617\n",
    "\n",
    "def lagrange_function(x,n):\n",
    "    return (x - 1) // n\n",
    "\n",
    "def decrypt_paillier(c,n,p,q):\n",
    "    # Compute n^2\n",
    "    n_squared = n*n\n",
    "\n",
    "    # Compute λ = lcm(p-1, q-1)\n",
    "    lambda_value = int(lcm(p - 1, q - 1))\n",
    "    \n",
    "    # Compute g^λ mod n^2 (assuming g = n + 1 as typical)\n",
    "\n",
    "    g = n + 1\n",
    "    g_lambda = pow(g, lambda_value, n_squared)\n",
    "\n",
    "    # Compute L(g^λ mod n^2)\n",
    "    l_g_lambda = lagrange_function(g_lambda, n)\n",
    "\n",
    "    # Compute c^λ mod n^2\n",
    "    c_lambda = pow(c, lambda_value, n_squared)\n",
    "\n",
    "    # Compute L(c^λ mod n^2)\n",
    "    l_c_lambda = lagrange_function(c_lambda, n)\n",
    "\n",
    "    # Compute plaintext m\n",
    "    m = (l_c_lambda * mod_inverse(l_g_lambda, n)) % n\n",
    "    return m\n",
    "\n",
    "# Given values\n",
    "n = 620496404349687915307910174617\n",
    "c = 358624662650643040547102063483144791182626860568435345308004\n",
    "p = 802829923639097\n",
    "q = 772886493240161\n",
    "\n",
    "# Decrypt the ciphertext\n",
    "m = decrypt_paillier(c,n,p,q)\n",
    "print(f\"The decrypted message is: {m}\")\n"
   ]
  },
  {
   "cell_type": "markdown",
   "metadata": {},
   "source": [
    "## Exercice 3\n",
    "\n",
    "Write the python/Sage procedures that behave as follows:\n",
    "\n",
    "**genPrivate(sz)** that outputs a triple (n, p, q) in the conditions to be used as (n) the public key of a Paillier’s scheme and n = pq, being p, q primes of size sz bits;\n",
    "\n",
    "**voteYes(fileName,n)** that append to file fileName a vote yes (=1) using Paillier’s scheme and public key n.\n",
    "\n",
    "**voteNo(fileName,n)** that append to file fileName a vote no (=0) using Paillier’s scheme and public key n.\n",
    "\n",
    "**getResults(fileName,n,phi)** that prints the result of the polling written in fileName being n the public key used and phi the Euler’s totient value corresponding to the public key."
   ]
  },
  {
   "cell_type": "code",
   "execution_count": 4,
   "metadata": {},
   "outputs": [
    {
     "name": "stdout",
     "output_type": "stream",
     "text": [
      "Total votes: 62700007335836519123453141565862176080221543437523990551738678125884865041437707214596884951517385258745600467806117804291769386307728223443525464086562593578283300671228700664412225021345748029567822811755412588371981268414872965675549675783299490685640213106690085611537706684537098526098855616102614751676\n"
     ]
    }
   ],
   "source": [
    "import random\n",
    "from Crypto.Util import number\n",
    "\n",
    "def genPrivate(sz):\n",
    "    p = number.getPrime(sz)\n",
    "    q = number.getPrime(sz)\n",
    "    n = p * q\n",
    "    return (n, p, q)\n",
    "\n",
    "def encrypt_vote(vote, n):\n",
    "    r = random.randint(1, n-1)\n",
    "    while number.GCD(r, n) != 1:\n",
    "        r = random.randint(1, n-1)\n",
    "    return (pow(n+1, vote, n*n) * pow(r, n, n*n)) % (n*n)\n",
    "\n",
    "def voteYes(fileName, n):\n",
    "    vote = 1\n",
    "    encrypted_vote = encrypt_vote(vote, n)\n",
    "    with open(fileName, 'a') as file:\n",
    "        file.write(f\"{encrypted_vote}\\n\")\n",
    "\n",
    "def voteNo(fileName, n):\n",
    "    vote = 0\n",
    "    encrypted_vote = encrypt_vote(vote, n)\n",
    "    with open(fileName, 'a') as file:\n",
    "        file.write(f\"{encrypted_vote}\\n\")\n",
    "\n",
    "def decrypt_vote(encrypted_vote, n, phi):\n",
    "    n_sq = n * n\n",
    "    x = pow(encrypted_vote, phi, n_sq) - 1\n",
    "    return (x // n) % n\n",
    "\n",
    "def getResults(fileName, n, phi):\n",
    "    with open(fileName, 'r') as file:\n",
    "        votes = file.readlines()\n",
    "    \n",
    "    total_votes = 0\n",
    "    for vote in votes:\n",
    "        encrypted_vote = int(vote.strip())\n",
    "        decrypted_vote = decrypt_vote(encrypted_vote, n, phi)\n",
    "        total_votes += decrypted_vote\n",
    "    \n",
    "    print(f\"Total votes: {total_votes}\")\n",
    "\n",
    "# Example usage:\n",
    "#n, p, q = genPrivate(512)\n",
    "#phi = (p-1)*(q-1)\n",
    "#voteYes('votes.txt', n)\n",
    "#voteNo('votes.txt', n)\n",
    "#getResults('votes.txt', n, phi)"
   ]
  }
 ],
 "metadata": {
  "kernelspec": {
   "display_name": "Python 3",
   "language": "python",
   "name": "python3"
  },
  "language_info": {
   "codemirror_mode": {
    "name": "ipython",
    "version": 3
   },
   "file_extension": ".py",
   "mimetype": "text/x-python",
   "name": "python",
   "nbconvert_exporter": "python",
   "pygments_lexer": "ipython3",
   "version": "3.12.7"
  }
 },
 "nbformat": 4,
 "nbformat_minor": 2
}
