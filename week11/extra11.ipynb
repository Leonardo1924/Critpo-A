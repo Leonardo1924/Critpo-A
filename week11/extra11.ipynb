{
 "cells": [
  {
   "cell_type": "markdown",
   "metadata": {},
   "source": [
    "# Cryptography $CC4017$ -- Extra 11"
   ]
  },
  {
   "cell_type": "markdown",
   "metadata": {},
   "source": [
    "## Q1: Demonstrating forgeability of plain RSA\n",
    "\n",
    "A key property of digital signatures is that of existential unforgeability, which is expressed as a security game as follows.\n",
    "\n",
    "**Existential Unforgeability**:\n",
    "\n",
    "1 - We generate a keypair$sk, pk$\n",
    "\n",
    "2 - We give $pk$ to the adversary, and allow him to request signatures of arbitrary messages. This means that the adversary is free to request signatures of anything, but every signed message is recorded.\n",
    "\n",
    "3 - The adversary must then produce a pair $$m, s$$. He wins the game if \n",
    "\n",
    "i.$ $s$ is a valid signature for $m$\n",
    "\n",
    "ii.$ the signature of $m$ was not requested in step 2.\n",
    "\n",
    "**Plain RSA signature scheme** \n",
    "\n",
    "Plain RSA as a signature scheme sets $$e, n$$ as the public key and $$d, n$$ as the private key. Signatures of m are $m^{d}$ and validation of $$m, s$$ is checking if $m=s^{e}$.\n",
    "\n",
    "It is easy to see that plain RSA is not existentially unforgeable. Indeed, anyone can produce forgery$1,1$, as $1^{e}= 1$ regardless of the value of $e$. However the issues of signing with plain RSA go aboveand beyond this singular case. Let’s go for a slightly more challenging scenario.\n",
    "\n",
    "**Question:** \n",
    "\n",
    "Describe how an adversary can produce a valid forgery for the following experiment with probability 1.\n",
    "\n",
    "**Existential unforgeability with a twist**\n",
    "\n",
    "1 - We generate a keypair $$sk, pk$$ and select a bad value $b$.\n",
    "\n",
    "2 - We give $pk$ and $b$ to the adversary, and allow him to request signatures of arbitrary messages. This means that the adversary is free to request signatures of anything, but every signed message is recorded.\n",
    "\n",
    "3 - The adversary must then produce a signatures. He wins the game if \n",
    "\n",
    "i.$ $s$ is a valid signature for $b$\n",
    "\n",
    "ii.$ the signature of $b$ was **not** requested in step 2.\n",
    "\n"
   ]
  },
  {
   "cell_type": "markdown",
   "metadata": {},
   "source": [
    "## Answer\n",
    "\n",
    "**Exploiting Plain RSA**\n",
    "\n",
    "In plain RSA, the signature of a message $m$ is $s = m^d \\mod n$, and verification involves checking if $m = s^e \\mod n$.\n",
    "\n",
    "Given the properties of RSA, the adversary can exploit the multiplicative property of RSA signatures. Specifically, if the adversary can find two messages $m_1$ and $m_2$ such that $m_1 \\cdot m_2 \\equiv b \\mod n$, then the adversary can use the signatures of $m_1$ and $m_2$ to forge a signature for $b$.\n",
    "\n",
    "**Request Signatures:**\n",
    "\n",
    "The adversary requests the signatures for two messages $m_1$ and $m_2$ such that $m_1 \\cdot m_2 \\equiv b \\mod n$.\n",
    "\n",
    "Let $s_1 = m_1^d \\mod n$ and $s_2 = m_2^d \\mod n$ be the signatures for $m_1$ and $m_2$, respectively.\n",
    "\n",
    "**Forge Signature:**\n",
    "\n",
    "The adversary computes the forged signature $s$ for $b$ as $s = s_1 \\cdot s_2 \\mod n$.\n",
    "Verification:\n",
    "\n",
    "To verify the forged signature $s$, we check if $b = s^e \\mod n$.\n",
    "\n",
    "Since $s = s_1 \\cdot s_2 \\mod n$, we have: \n",
    "\n",
    "$s^e \\equiv (s_1 \\cdot s_2)^e \\mod n \\equiv s_1^e \\cdot s_2^e \\mod n \\equiv m_1 \\cdot m_2 \\mod n \\equiv b \\mod n $\n",
    "\n",
    "Therefore, $s$ is a valid signature for $b$.\n",
    "\n",
    "By exploiting the multiplicative property of RSA, the adversary can produce a valid forgery for the message (b) with probability 1."
   ]
  }
 ],
 "metadata": {
  "language_info": {
   "name": "python"
  }
 },
 "nbformat": 4,
 "nbformat_minor": 2
}
