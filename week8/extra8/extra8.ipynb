{
 "cells": [
  {
   "cell_type": "markdown",
   "metadata": {},
   "source": [
    "## **Q2: Signing with RSA**\n",
    "\n",
    "Let $d$ denote the private key and $e$ denote the public key for RSA, $m$ denote the message we want tosign and $σ$ denote the produced signature. A naive way to use RSA for digital signatures is to simply encrypt the message using the private key. Consider the following signature scheme:\n",
    "\n",
    "• **Sign:** $σ ← M^d \\mod{N}$\n",
    "\n",
    "• **Verify:** Compute $M'←σ^e \\mod{N}$. Accept if M=M'\n",
    "\n",
    "**Question - P1:** \n",
    "Show how this signature can never be shown to be unforgeable, by constructing a valid signature for a message without knowledge of the private key $d$."
   ]
  },
  {
   "cell_type": "markdown",
   "metadata": {},
   "source": [
    "To demonstrate that the given RSA signature scheme is not unforgeable, we can construct a valid signature for a message without knowing the private key $ d $.\n",
    "\n",
    "1. **Given:**\n",
    "    - Public key (e,N)\n",
    "    - Message (M)\n",
    "    - Signature (σ) computed as $σ ← M^d \\mod{N}$\n",
    "    - Verify: $M'←σ^e \\mod{N}$. Accept if M=M'\n",
    "\n",
    "2. **Constructing a Forged Signature:**\n",
    "    - Choose a random number $k$ such that $1 < k < N$\n",
    "    - Compute $σ' \\leftarrow k^e \\mod{N}$\n",
    "\n",
    "3. **Verification:**\n",
    "    - Compute $M' \\leftarrow σ'^e \\mod{N}$\n",
    "    - As $σ' = k^e \\mod{N}$, we have:\n",
    "    $$M' = (k^e)^e \\mod{N} = k^{e^2} \\mod N$$\n",
    "    - If $e$ is chosen such that $e^2 \\equiv 1 \\mod φ(N)$, then $M' = k \\mod N$\n",
    "    - Therefore, M' = k, which is a valid signature for the message M.\n",
    "\n",
    "This demonstrates that the signature scheme is not unforgeable, as it is possible to forge a valid signature for any chosen message $ k $ using only the public key $ (e, N) $.\n"
   ]
  },
  {
   "cell_type": "markdown",
   "metadata": {},
   "source": [
    "Full Domain Hash (FDH) are constructions that also rely on RSA to produce digital signatures, but make use of a cryptographic hash function (H) to avoid these issues. FDH behaves as follows:\n",
    "\n",
    "• **Sign:** Compute $ h ← H(M) $ , and $σ ← h^d \\mod{N}$\n",
    "\n",
    "• **Verify:** Compute $h'←σ^e \\mod{N}$. Accept if H(M)=h'\n",
    "\n",
    "**Question - P2:**\n",
    "What properties of the hash functions are we using to ensure that the previous attack no longer works?"
   ]
  },
  {
   "cell_type": "markdown",
   "metadata": {},
   "source": [
    "- **Preimage Resistance:** Prevents an attacker from directly finding a message $ M $ that corresponds to a chosen hash value $ h $. Without knowing $ M $, the attacker cannot compute a valid signature $ \\sigma $ for $ M $.\n",
    "\n",
    "- **Second Preimage Resistance:** Ensures that even if an attacker has a valid message-signature pair $ (M, \\sigma) $, they cannot find another message $ M' $ that produces the same hash value $ H(M) $. This prevents the attacker from reusing the signature $ \\sigma $ for a different message.\n",
    "\n",
    "- **Collision Resistance:** Ensures that it is highly unlikely for two different messages to produce the same hash value. This prevents the attacker from finding two messages $ M $ and $ M' $ such that $ H(M) = H(M') $, which would allow them to forge a signature for $ M' $ using the signature for $ M $."
   ]
  }
 ],
 "metadata": {
  "language_info": {
   "name": "python"
  }
 },
 "nbformat": 4,
 "nbformat_minor": 2
}
