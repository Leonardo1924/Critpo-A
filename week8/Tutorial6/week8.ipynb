{
 "cells": [
  {
   "cell_type": "markdown",
   "metadata": {},
   "source": [
    "# Cryptography (CC4017) -- Week 8"
   ]
  },
  {
   "cell_type": "markdown",
   "metadata": {},
   "source": [
    "## Exercice 1\n",
    "\n",
    "In a public-key system using RSA, you intercept the ciphertext C = 20 sent to a user whose\n",
    "public key is e = 13, n = 77. What is the plaintext M ?"
   ]
  },
  {
   "cell_type": "markdown",
   "metadata": {},
   "source": [
    "To decrypt the message, we need to compute the private key d. For that we can use the public key key components e and n. The private key is the modular multiplicative inverse of $e \\ mod \\ \\phi (n)$, where $\\phi (n)$ is the Euler's totient function of n."
   ]
  },
  {
   "cell_type": "markdown",
   "metadata": {},
   "source": [
    "1. Factorize n : n = 77 then can be factorized as $n = 7 \\times 11$\n",
    "\n",
    "2. Compute $\\phi (n) = (p-1)(q-1)$ where p and q are the prime factors of n. In this case, $\\phi (n) = 6 \\times 10 = 60$\n",
    "\n",
    "3. Compute the modular multiplicative inverse of e mod $\\phi (n)$, i.e. $d = e^{-1} \\ mod \\ \\phi (n)$ \n",
    "\n",
    "4. Decrypt the message using the formula $M = C^d \\ mod \\ n$\n",
    "\n"
   ]
  },
  {
   "cell_type": "code",
   "execution_count": 7,
   "metadata": {},
   "outputs": [
    {
     "name": "stdout",
     "output_type": "stream",
     "text": [
      "The modular multiplicative inverse of 13 modulo 60 is 37\n"
     ]
    }
   ],
   "source": [
    "# Compute the modular multiplicative inverse\n",
    "\n",
    "def modinv(a, m):\n",
    "    m0, x0, x1 = m, 0, 1\n",
    "    while a > 1:\n",
    "        q = a // m\n",
    "        m, a = a % m, m\n",
    "        x0, x1 = x1 - q * x0, x0\n",
    "    return x1 + m0 if x1 < 0 else x1\n",
    "\n",
    "a = 13\n",
    "m = 60\n",
    "print(f\"The modular multiplicative inverse of {a} modulo {m} is {modinv(a, m)}\")\n",
    "\n"
   ]
  },
  {
   "cell_type": "code",
   "execution_count": 8,
   "metadata": {},
   "outputs": [
    {
     "name": "stdout",
     "output_type": "stream",
     "text": [
      "48\n"
     ]
    }
   ],
   "source": [
    "def modular_exponentiation(base, exponent, modulus):\n",
    "    result = 1\n",
    "    base = base % modulus\n",
    "    while exponent > 0:\n",
    "        if (exponent % 2) == 1:\n",
    "            result = (result * base) % modulus\n",
    "        exponent = exponent >> 1\n",
    "        base = (base * base) % modulus\n",
    "    return result\n",
    "\n",
    "C = 20\n",
    "d = 37\n",
    "n = 77\n",
    "\n",
    "M = modular_exponentiation(C, d, n)\n",
    "print(M)"
   ]
  },
  {
   "cell_type": "markdown",
   "metadata": {},
   "source": [
    "So for the first question, we can conclude that the plaintext M is 48."
   ]
  },
  {
   "cell_type": "markdown",
   "metadata": {},
   "source": [
    "## Exercice 2\n",
    "\n",
    "In a RSA system ,the public key ofa given user is e = 65 , n = 2881. What is the private key of this user?"
   ]
  },
  {
   "cell_type": "markdown",
   "metadata": {},
   "source": [
    "To find the private key, we need to compute the modular multiplicative inverse of e mod $\\phi (n)$, where $\\phi (n)$ is the Euler's totient function of n."
   ]
  },
  {
   "cell_type": "markdown",
   "metadata": {},
   "source": [
    "1. Factorize n : n = 2881 then can be factorized as $n = 43 \\times 67$\n",
    "\n",
    "2. Compute $\\phi (n) = (p-1)(q-1)$ where p and q are the prime factors of n. In this case, $\\phi (n) = 42 \\times 66 = 2772$\n",
    "\n",
    "3. Compute the modular multiplicative inverse of e mod $\\phi (n)$, i.e. $d = e^{-1} \\ mod \\ \\phi (n)$"
   ]
  },
  {
   "cell_type": "code",
   "execution_count": 9,
   "metadata": {},
   "outputs": [
    {
     "name": "stdout",
     "output_type": "stream",
     "text": [
      "[43, 67]\n",
      "The modular multiplicative inverse of 65 modulo 2772 is 725\n"
     ]
    }
   ],
   "source": [
    "# Factorization\n",
    "def factorize(n):\n",
    "    factors = []\n",
    "    i = 2\n",
    "    while i * i <= n:\n",
    "        if n % i:\n",
    "            i += 1\n",
    "        else:\n",
    "            n //= i\n",
    "            factors.append(i)\n",
    "    if n > 1:\n",
    "        factors.append(n)\n",
    "    return factors\n",
    "\n",
    "n = 2881\n",
    "result  = factorize(n)\n",
    "\n",
    "# Print the factors\n",
    "print(result)\n",
    "\n",
    "# Euler's totient function\n",
    "d = modinv(65, 2772)\n",
    "print(f\"The modular multiplicative inverse of 65 modulo 2772 is {d}\")\n"
   ]
  },
  {
   "cell_type": "markdown",
   "metadata": {},
   "source": [
    "We can conclude that the private key of this user is 725."
   ]
  },
  {
   "cell_type": "markdown",
   "metadata": {},
   "source": [
    "## Exercice 3\n",
    "\n",
    "In the RSA public-key encryption scheme, each user has a public key $ e $ and a private key $ d $ . Suppose Bob leaks his private key. Rather than generating a new modus, he decides to generate a new public key $e $ and a new private key $ d $. Is this safe?"
   ]
  },
  {
   "cell_type": "markdown",
   "metadata": {},
   "source": [
    "> No, if Bob's private key has been compromised or leaked, it is not safe for him to create a new public key and a new private key using the same modulus. An attacker can factorize the modulus n using Bob's leaked private key, and then use the factorized n to decrypt the messages encrypted with the new public key and private key. The security of the RSA relies on the difficulty of factorizing the modulus n. If the modulus n is factorized, the attacker can easily decrypt the messages encrypted with the new public key and private key.\n"
   ]
  },
  {
   "cell_type": "markdown",
   "metadata": {},
   "source": [
    "## Exercice 4\n",
    "\n",
    "Suppose Bob uses the RSA cryptosystem with a very large modulus n for which the factorisation cannot be found in a reasonable amount of time. Suppose Alice sends an enciphered message to Bob containing only her phone number: $number^e (mod \\ n)$. Is this safe?"
   ]
  },
  {
   "cell_type": "markdown",
   "metadata": {},
   "source": [
    "> No, it is not safe for Alice to send only her phone number encrypted with RSA to Bob. A phone number typically has a very limited range of possible values low entropy makes it feasible for an attacker to perform a brute-force attack. An attacker can easily decrypt the message by encrypting all possible phone numbers and comparing the result with the encrypted message. Since the phone number is a small number, the attacker can easily find the phone number that corresponds to the encrypted message.\n"
   ]
  },
  {
   "cell_type": "markdown",
   "metadata": {},
   "source": [
    "## Exercice 5\n",
    "\n",
    "Although, since 2002, there is a published algorithm with polynomial complexity to test primality of an integer, its performance for small sizes is too slow to be considered as usable. What is normally used is a probabilistic test, that can be iterated the necessary number of times so that the probability of a false positive may be made negligible. The Miller-Rabin is a primality test of this kind.\n",
    "\n",
    "**Theorem 1.**  If p is an odd prime, then the equation\n",
    "$$ x^2 \\equiv 1 \\ (mod \\ p) $$\n",
    "has exactly two solutions: x = 1 and x = -1.\n",
    "\n",
    "**Proof.** If x is solution of the equation, then\n",
    "$$ x^2 \\equiv 1 \\ (mod \\ p) $$\n",
    "$$ (x + 1)(x - 1) \\equiv 0 \\ (mod \\ p) $$\n",
    "\n",
    "thus\n",
    "$$ p \\mid (x + 1) \\vee p \\mid (x - 1) $$\n",
    "\n",
    "Suppose that $ p \\mid (x + 1) \\wedge p \\mid (x - 1)$. Then we can write $ x + 1 = kp $ and $ x - 1 = jp $ for some integers k and j. Subtracting both equations we get $2 = (k − j)p $ that is only satisfied with p = 2, but the initial assumption states that p is an odd prime. Thus $ p \\mid (x + 1) \\vee p \\mid (x - 1) $. Suppose that $ p \\mid (x − 1) $. Then\n",
    "$$ (\\exists k) \\ (x - 1 = kp )$$\n",
    "and hence $ x \\equiv 1 \\ (mod \\ p ) $\n",
    "\n",
    "In an entirely analogous manner we proceed if $ x \\equiv -1 \\ (mod \\ p ) $\n",
    "\n",
    "We can look at this theorem in a different perspective: if we can find a solution for $x^2 ≡ 1 \\ (mod \\ n) $ that is different from $ x = ±1$, then we can conclude that n is not prime.\n",
    "\n",
    "**Theorem 2.** Let p be an odd prime and a such that $p \\nmid a$. We can always express $ p − 1 $ as\n",
    "$$ p − 1 = 2^k d $$\n",
    "with d is odd. Thus, one of the two following is true:\n",
    "\n",
    "(a) $ a^d ≡ 1 \\ (mod \\ p) $\n",
    "\n",
    "(b) $\\exists i \\in \\{0, \\ldots, k-1\\} \\ a^{2^i d} \\equiv -1 \\pmod{p}$.\n",
    "\n",
    "**Proof.** By Fermat’s theorem, $a^{2^k d} \\equiv 1 \\pmod{p}$. Thus, in the following sequence\n",
    "$$ a^d, a^{2d}, a^{2^2d}, \\ldots, a^{2^k d} $$\n",
    "\n",
    "at least the last is congruent with 1. But each of the powers of a is the square of the previous.\n",
    "Thus, one of the following is true\n",
    "\n",
    "(a) $ a^d ≡ 1 \\ (mod \\ p) $\n",
    "\n",
    "(b) $\\exists i \\in \\{0, \\ldots, k\\}$,\n",
    "\n",
    "$$a^{2^i d} \\equiv -1 \\pmod{p} \\wedge a^{2^{i-1} d} \\not\\equiv 1 \\pmod{p} $$\n",
    "\n",
    "As we are in the conditions of the previous theorem, we conclude that\n",
    "$$a^{2^{i-1} d} \\equiv -1 \\pmod{p} $$\n",
    "\n",
    "We can, then, write a programming function, Witness, that takes a number n and a “witness” $ a $, with $(a,n) = 1$ , and tests if $a^d \\not\\equiv 1  \\pmod{p} $ and $ a^{2^i d} \\not\\equiv −1 \\pmod{p} $ , for all $ 0 ≤ i ≤ k $ . If the test succeeds we know for sure that the number is not a prime. If it fails we cannot conclude, but we have a probability of $\\frac{1}{2}$ of $n$ being a prime. We can repeat the test (with a different values for $a$). If we try $ m $ times and all the tests are negative we can ensure that the number $n$ is a prime with a probability $1 − 2^{−m}$.\n",
    "\n",
    "**Programming assignment:** Write a python program that implements this strategy and test it for large primes."
   ]
  },
  {
   "cell_type": "code",
   "execution_count": null,
   "metadata": {},
   "outputs": [
    {
     "data": {
      "text/plain": [
       "{15485863: True,\n",
       " 32452843: True,\n",
       " 49979687: True,\n",
       " 67867967: True,\n",
       " 86028121: True}"
      ]
     },
     "execution_count": 10,
     "metadata": {},
     "output_type": "execute_result"
    }
   ],
   "source": [
    "# Import Required Libraries\n",
    "import numpy as np # type: ignore\n",
    "import random\n",
    "\n",
    "def miller_rabin(n, k):\n",
    "    # Helper function to perform modular exponentiation\n",
    "    def power_mod(base, exponent, modulus):\n",
    "        result = 1\n",
    "        base = base % modulus\n",
    "        while exponent > 0:\n",
    "            if (exponent % 2) == 1:\n",
    "                result = (result * base) % modulus\n",
    "            exponent = exponent >> 1\n",
    "            base = (base * base) % modulus\n",
    "        return result\n",
    "\n",
    "    # Helper function to perform the Miller-Rabin test for a single witness\n",
    "    def witness(a, d, n, s):\n",
    "        x = power_mod(a, d, n)\n",
    "        if x == 1 or x == n - 1:\n",
    "            return False\n",
    "        for _ in range(s - 1):\n",
    "            x = (x * x) % n\n",
    "            if x == n - 1:\n",
    "                return False\n",
    "        return True\n",
    "\n",
    "    # Handle base cases\n",
    "    if n <= 1:\n",
    "        return False\n",
    "    if n <= 3:\n",
    "        return True\n",
    "    if n % 2 == 0:\n",
    "        return False\n",
    "\n",
    "    # Write n-1 as 2^s * d\n",
    "    s = 0\n",
    "    d = n - 1\n",
    "    while d % 2 == 0:\n",
    "        d //= 2\n",
    "        s += 1\n",
    "\n",
    "    # Perform k iterations of the test\n",
    "    for _ in range(k):\n",
    "        a = random.randint(2, n - 2)\n",
    "        if witness(a, d, n, s):\n",
    "            return False\n",
    "\n",
    "    return True\n",
    "\n",
    "def witness(a, d, n, s):\n",
    "    # Helper function to perform modular exponentiation\n",
    "    def power_mod(base, exponent, modulus):\n",
    "        result = 1\n",
    "        base = base % modulus\n",
    "        while exponent > 0:\n",
    "            if (exponent % 2) == 1:\n",
    "                result = (result * base) % modulus\n",
    "            exponent = exponent >> 1\n",
    "            base = (base * base) % modulus\n",
    "        return result\n",
    "\n",
    "    x = power_mod(a, d, n)\n",
    "    if x == 1 or x == n - 1:\n",
    "        return False\n",
    "    for _ in range(s - 1):\n",
    "        x = (x * x) % n\n",
    "        if x == n - 1:\n",
    "            return False\n",
    "    return True\n",
    "\n",
    "# Test the Primality of Large Numbers\n",
    "\n",
    "# Define a list of large numbers to test\n",
    "large_numbers = [\n",
    "    15485863,  # 1 millionth prime\n",
    "    32452843,  # 2 millionth prime\n",
    "    49979687,  # 3 millionth prime\n",
    "    67867967,  # 4 millionth prime\n",
    "    86028121   # 5 millionth prime\n",
    "]\n",
    "\n",
    "# Number of iterations for the Miller-Rabin test\n",
    "k = 5\n",
    "\n",
    "# Test each large number for primality\n",
    "results = {}\n",
    "for number in large_numbers:\n",
    "    is_prime = miller_rabin(number, k)\n",
    "    results[number] = is_prime\n",
    "\n",
    "results\n",
    "\n",
    "# Run Multiple Tests for Higher Accuracy\n",
    "\n",
    "# Function to run multiple Miller-Rabin tests for higher accuracy\n",
    "def run_multiple_tests(n, k, iterations):\n",
    "    for _ in range(iterations):\n",
    "        if not miller_rabin(n, k):\n",
    "            return False\n",
    "    return True\n",
    "\n",
    "# Number of iterations for higher accuracy\n",
    "iterations = 10\n",
    "\n",
    "# Test each large number for primality with higher accuracy\n",
    "accurate_results = {}\n",
    "for number in large_numbers:\n",
    "    is_prime = run_multiple_tests(number, k, iterations)\n",
    "    accurate_results[number] = is_prime\n",
    "\n",
    "accurate_results"
   ]
  }
 ],
 "metadata": {
  "kernelspec": {
   "display_name": "Python 3",
   "language": "python",
   "name": "python3"
  },
  "language_info": {
   "codemirror_mode": {
    "name": "ipython",
    "version": 3
   },
   "file_extension": ".py",
   "mimetype": "text/x-python",
   "name": "python",
   "nbconvert_exporter": "python",
   "pygments_lexer": "ipython3",
   "version": "3.12.6"
  }
 },
 "nbformat": 4,
 "nbformat_minor": 2
}
