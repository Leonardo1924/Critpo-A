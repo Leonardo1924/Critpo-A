{
 "cells": [
  {
   "cell_type": "markdown",
   "metadata": {},
   "source": [
    "# Cryptography (CC4017) -- Week 10 - Extra "
   ]
  },
  {
   "cell_type": "markdown",
   "metadata": {},
   "source": [
    "## Q1: Man-in-the-middle attack\n",
    "\n",
    "Implement a prototype that demonstrates how a Man-in-the-Middle attack can occur in a standardunauthenticated Diffie-Hellman key exchange. As usual, this happens between usual suspects Alice and Bob. In appendix, you can find four files:\n",
    "\n",
    "- config_alice and config_bob are configuration files that are used by Alice and Bob to know who to talk to.\n",
    "\n",
    "- alice.py establishes a connection with Bob (hopefully), and performs the Diffie-Hellman key exchange.\n",
    "    \n",
    "- bob.py mirrors the behavior of Alice.\n",
    "    \n",
    "The goal of the work is to design the man-in-the-middle adversary code:mitm.py. Your code must convince Alice and Bob to instead talk to him, and perform a key exchange with him. Your attack must not change the source code of Alice or Bob. Your attack is successful if Alice and Bob are not agreeing on the same secret, and the secrets they have agreed to are both known to the adversary.\n",
    "    \n",
    "**Suggestion:** Start by analysing the code for Alice and Bob, what are they using to communicate? How can we subvert this mechanism to be more. . . convenient?\n",
    "    \n",
    "To facilitate communication, this code usespwntools(reference). It is not mandatory to use this, butthe library considerably facilitates communication"
   ]
  },
  {
   "cell_type": "code",
   "execution_count": null,
   "metadata": {},
   "outputs": [
    {
     "ename": "",
     "evalue": "",
     "output_type": "error",
     "traceback": [
      "\u001b[1;31mThe Kernel crashed while executing code in the current cell or a previous cell. \n",
      "\u001b[1;31mPlease review the code in the cell(s) to identify a possible cause of the failure. \n",
      "\u001b[1;31mClick <a href='https://aka.ms/vscodeJupyterKernelCrash'>here</a> for more info. \n",
      "\u001b[1;31mView Jupyter <a href='command:jupyter.viewOutput'>log</a> for further details."
     ]
    }
   ],
   "source": [
    "from pwn import *\n",
    "\n",
    "# Configuration\n",
    "hostAlice = \"localhost\"\n",
    "portAlice = 5075  # Alice's port\n",
    "hostBob = \"localhost\"\n",
    "portBob = 5076  # Bob's port\n",
    "\n",
    "# Diffie-Hellman parameters\n",
    "g = 2\n",
    "p = 7853799659\n",
    "\n",
    "# Start listening for Alice\n",
    "l_alice = listen(portAlice)\n",
    "l_alice.wait_for_connection()\n",
    "print(\"Connected to Alice\")\n",
    "\n",
    "# Start connecting to Bob\n",
    "r_bob = remote(hostBob, portBob)\n",
    "print(\"Connected to Bob\")\n",
    "\n",
    "# Intercept Alice's GX\n",
    "gx_from_alice = int.from_bytes(l_alice.recvline()[:-1], \"little\")\n",
    "print(\"Intercepted GX from Alice:\", gx_from_alice)\n",
    "\n",
    "# Send our own GX to Bob\n",
    "x_mitm = random.randint(1, p)\n",
    "gx_from_mitm_to_bob = pow(g, x_mitm, p)\n",
    "r_bob.sendline(gx_from_mitm_to_bob.to_bytes(8, \"little\"))\n",
    "print(\"Sent GX to Bob:\", gx_from_mitm_to_bob)\n",
    "\n",
    "# Intercept Bob's GY\n",
    "gy_from_bob = int.from_bytes(r_bob.recvline()[:-1], \"little\")\n",
    "print(\"Intercepted GY from Bob:\", gy_from_bob)\n",
    "\n",
    "# Send our own GY to Alice\n",
    "y_mitm = random.randint(1, p)\n",
    "gy_from_mitm_to_alice = pow(g, y_mitm, p)\n",
    "l_alice.sendline(gy_from_mitm_to_alice.to_bytes(8, \"little\"))\n",
    "print(\"Sent GY to Alice:\", gy_from_mitm_to_alice)\n",
    "\n",
    "# Calculate secrets\n",
    "shared_secret_with_alice = pow(gy_from_mitm_to_alice, x_mitm, p)\n",
    "shared_secret_with_bob = pow(gx_from_mitm_to_bob, y_mitm, p)\n",
    "\n",
    "print(\"Shared secret with Alice:\", shared_secret_with_alice)\n",
    "print(\"Shared secret with Bob:\", shared_secret_with_bob)\n",
    "\n",
    "# Close connections\n",
    "l_alice.close()\n",
    "r_bob.close()\n"
   ]
  }
 ],
 "metadata": {
  "kernelspec": {
   "display_name": "Python 3",
   "language": "python",
   "name": "python3"
  },
  "language_info": {
   "codemirror_mode": {
    "name": "ipython",
    "version": 3
   },
   "file_extension": ".py",
   "mimetype": "text/x-python",
   "name": "python",
   "nbconvert_exporter": "python",
   "pygments_lexer": "ipython3",
   "version": "3.12.7"
  }
 },
 "nbformat": 4,
 "nbformat_minor": 2
}
