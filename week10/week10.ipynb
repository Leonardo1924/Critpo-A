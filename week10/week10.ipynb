{
 "cells": [
  {
   "cell_type": "markdown",
   "metadata": {},
   "source": [
    "# Cryptography (CC4017) -- Week 10"
   ]
  },
  {
   "cell_type": "markdown",
   "metadata": {},
   "source": [
    "## Exercise 1\n",
    "\n",
    "Is (4,7) a point in the elliptic curve $y^2 = x^3−5x + 5$ over $\\mathbb{Z}_{23} ?$ And over R?"
   ]
  },
  {
   "cell_type": "code",
   "execution_count": 6,
   "metadata": {},
   "outputs": [
    {
     "name": "stdout",
     "output_type": "stream",
     "text": [
      "Point (4,7) is on the curve over R: True\n",
      "Point (4,7) is on the curve over Z_23: True\n"
     ]
    }
   ],
   "source": [
    "def is_point_on_curve(x, y, p=None):\n",
    "    # Check over R\n",
    "    left_side_R = y**2\n",
    "    right_side_R = x**3 - 5*x + 5\n",
    "    on_curve_R = left_side_R == right_side_R\n",
    "\n",
    "    # Check over Z_p\n",
    "    if p is not None:\n",
    "        left_side_Zp = (y**2) % p\n",
    "        right_side_Zp = (x**3 - 5*x + 5) % p\n",
    "        on_curve_Zp = left_side_Zp == right_side_Zp\n",
    "    else:\n",
    "        on_curve_Zp = None\n",
    "\n",
    "    return on_curve_R, on_curve_Zp\n",
    "\n",
    "x,y = 4,7\n",
    "p = 23\n",
    "on_curve_R, on_curve_Zp = is_point_on_curve(x, y, p)\n",
    "\n",
    "print(f\"Point ({x},{y}) is on the curve over R: {on_curve_R}\")\n",
    "print(f\"Point ({x},{y}) is on the curve over Z_{p}: {on_curve_Zp}\")"
   ]
  },
  {
   "cell_type": "markdown",
   "metadata": {},
   "source": [
    "## Exercice 2\n",
    "On the elliptic curve real numbers $y^2=x^3−36x$, let $P=(−2,8)$ and $Q=(−3,−9)$.\n",
    "\n",
    "Find $P+Q $ and $2P$."
   ]
  },
  {
   "cell_type": "code",
   "execution_count": 7,
   "metadata": {},
   "outputs": [
    {
     "name": "stdout",
     "output_type": "stream",
     "text": [
      "P + Q = (294.0, -5040.0)\n",
      "2P = (6.25, 4.375)\n"
     ]
    }
   ],
   "source": [
    "def point_addition(P, Q):\n",
    "    x1, y1 = P\n",
    "    x2, y2 = Q\n",
    "    \n",
    "    if P == Q:\n",
    "        return point_doubling(P)\n",
    "    \n",
    "    m = (y2 - y1) / (x2 - x1)\n",
    "    x3 = m**2 - x1 - x2\n",
    "    y3 = m * (x1 - x3) - y1\n",
    "    \n",
    "    return (x3, y3)\n",
    "\n",
    "def point_doubling(P):\n",
    "    x1, y1 = P\n",
    "    \n",
    "    m = (3 * x1**2 - 36) / (2 * y1)\n",
    "    x3 = m**2 - 2 * x1\n",
    "    y3 = m * (x1 - x3) - y1\n",
    "    \n",
    "    return (x3, y3)\n",
    "\n",
    "# Example points\n",
    "P = (-2, 8)\n",
    "Q = (-3, -9)\n",
    "\n",
    "# Calculate P + Q\n",
    "R = point_addition(P, Q)\n",
    "print(\"P + Q =\", R)\n",
    "\n",
    "# Calculate 2P\n",
    "S = point_doubling(P)\n",
    "print(\"2P =\", S)"
   ]
  },
  {
   "cell_type": "markdown",
   "metadata": {},
   "source": [
    "## Exercice 3\n",
    "\n",
    "Consider the elliptic curve defined by $y^2=x^3+x+6 $ over $\\mathbb{Z}_{11}$. Determine all of the points of the curve."
   ]
  },
  {
   "cell_type": "code",
   "execution_count": 8,
   "metadata": {},
   "outputs": [
    {
     "name": "stdout",
     "output_type": "stream",
     "text": [
      "Points on the curve y^2 = x^3 + x + 6 over Z_11:\n",
      "(2, 4)\n",
      "(2, 7)\n",
      "(3, 5)\n",
      "(3, 6)\n",
      "(5, 2)\n",
      "(5, 9)\n",
      "(7, 2)\n",
      "(7, 9)\n",
      "(8, 3)\n",
      "(8, 8)\n",
      "(10, 2)\n",
      "(10, 9)\n",
      "Point at infinity: O\n"
     ]
    }
   ],
   "source": [
    "def find_points_on_curve(p):\n",
    "    points = []\n",
    "    for x in range(p):\n",
    "        rhs = (x**3 + x + 6) % p\n",
    "        for y in range(p):\n",
    "            if (y**2) % p == rhs:\n",
    "                points.append((x, y))\n",
    "    return points\n",
    "\n",
    "# Define the prime modulus\n",
    "p = 11\n",
    "\n",
    "# Find all points on the elliptic curve y^2 = x^3 + x + 6 over Z_11\n",
    "points = find_points_on_curve(p)\n",
    "\n",
    "# Print the points\n",
    "print(\"Points on the curve y^2 = x^3 + x + 6 over Z_11:\")\n",
    "for point in points:\n",
    "    print(point)\n",
    "\n",
    "# Include the point at infinity\n",
    "print(\"Point at infinity: O\")"
   ]
  },
  {
   "cell_type": "markdown",
   "metadata": {},
   "source": [
    "## Exercice 4\n",
    "\n",
    "For the curve defined in the previous question, consider the point $G=(2,7)$.Compute the multiples of $G$ from $2G$ through $13G$."
   ]
  },
  {
   "cell_type": "code",
   "execution_count": 9,
   "metadata": {},
   "outputs": [
    {
     "name": "stdout",
     "output_type": "stream",
     "text": [
      "Multiples of G = (2, 7) on the curve y^2 = x^3 + x + 6 over Z_11:\n",
      "2G = (5, 2)\n",
      "3G = (8, 3)\n",
      "4G = (10, 2)\n",
      "5G = (3, 6)\n",
      "6G = (7, 9)\n",
      "7G = (7, 2)\n",
      "8G = (3, 5)\n",
      "9G = (10, 9)\n",
      "10G = (8, 8)\n",
      "11G = (5, 9)\n",
      "12G = (2, 4)\n",
      "13G = (7, 7)\n"
     ]
    }
   ],
   "source": [
    "def mod_inverse(a, p):\n",
    "    \"\"\" Compute the modular inverse of a modulo p \"\"\"\n",
    "    return pow(a, p - 2, p)\n",
    "\n",
    "def point_addition(P, Q, a, p):\n",
    "    \"\"\" Add two points P and Q on the elliptic curve y^2 = x^3 + ax + b over Z_p \"\"\"\n",
    "    x1, y1 = P\n",
    "    if P == Q:\n",
    "        # Point doubling\n",
    "        m = (3 * x1**2 + a) * mod_inverse(2 * y1, p) % p\n",
    "        x2, y2 = x1, y1  # For consistency in the formula below\n",
    "    else:\n",
    "        # Point addition\n",
    "        x2, y2 = Q\n",
    "        m = (y2 - y1) * mod_inverse(x2 - x1, p) % p\n",
    "\n",
    "    x3 = (m**2 - x1 - x2) % p\n",
    "    y3 = (m * (x1 - x3) - y1) % p\n",
    "    return (x3, y3)\n",
    "\n",
    "def scalar_multiplication(k, P, a, b, p):\n",
    "    \"\"\" Compute k * P on the elliptic curve y^2 = x^3 + ax + b over Z_p \"\"\"\n",
    "    Q = P\n",
    "    R = None  # Point at infinity\n",
    "    for i in range(k):\n",
    "        if R is None:\n",
    "            R = Q\n",
    "        else:\n",
    "            R = point_addition(R, Q, a, p)\n",
    "    return R\n",
    "\n",
    "# Define the elliptic curve parameters\n",
    "a = 1\n",
    "b = 6\n",
    "p = 11\n",
    "G = (2, 7)\n",
    "\n",
    "# Compute multiples of G from 2G to 13G\n",
    "multiples = []\n",
    "for k in range(2, 14):\n",
    "    multiples.append(scalar_multiplication(k, G, a, b, p))\n",
    "\n",
    "# Print the multiples\n",
    "print(\"Multiples of G = (2, 7) on the curve y^2 = x^3 + x + 6 over Z_11:\")\n",
    "for k, point in enumerate(multiples, start=2):\n",
    "    print(f\"{k}G = {point}\")"
   ]
  },
  {
   "cell_type": "markdown",
   "metadata": {},
   "source": [
    "## Exercice 5 \n",
    "\n",
    "Write python/SageMath programs that for P-192 and ECDSA\n",
    "\n",
    "(a) Generates a pair of private/public keys.\n",
    "\n",
    "(b) Sign a text using a private key.\n",
    "\n",
    "(c) Verify the signature using the public key."
   ]
  },
  {
   "cell_type": "code",
   "execution_count": 10,
   "metadata": {},
   "outputs": [
    {
     "name": "stdout",
     "output_type": "stream",
     "text": [
      "Private key: 81aa37953c80d285de6beedd4454020e1af3a2c097c4aeb0\n",
      "Public key: f595c5e45a6719335ef50334a14cc7c26711d6d6ef92f48fd7dbd97cee55972eff5693836cd435ead2824b09bdf663b6\n",
      "Signature: 5b5388e2b537cc8afa092b0a1ef37e4dcffd2eaa9be8259cbe60e45f70a884cb9f36f9b0bc08a6f01c7a898f69c55069\n",
      "Signature is valid: True\n"
     ]
    }
   ],
   "source": [
    "from ecdsa import SigningKey, NIST192p\n",
    "\n",
    "# STEP 1: Generate a private key and public key\n",
    "private_key = SigningKey.generate(curve=NIST192p)\n",
    "public_key = private_key.get_verifying_key()\n",
    "\n",
    "print(\"Private key:\", private_key.to_string().hex())\n",
    "print(\"Public key:\", public_key.to_string().hex())\n",
    "\n",
    "# STEP 2: Sign a message\n",
    "message = b\"Cripto is fun!\"\n",
    "signature = private_key.sign(message)\n",
    "\n",
    "print(\"Signature:\", signature.hex())\n",
    "\n",
    "# STEP 3: Verify the signature\n",
    "is_valid = public_key.verify(signature, message)\n",
    "\n",
    "print(\"Signature is valid:\", is_valid)"
   ]
  }
 ],
 "metadata": {
  "kernelspec": {
   "display_name": "Python 3",
   "language": "python",
   "name": "python3"
  },
  "language_info": {
   "codemirror_mode": {
    "name": "ipython",
    "version": 3
   },
   "file_extension": ".py",
   "mimetype": "text/x-python",
   "name": "python",
   "nbconvert_exporter": "python",
   "pygments_lexer": "ipython3",
   "version": "3.11.9"
  }
 },
 "nbformat": 4,
 "nbformat_minor": 2
}
