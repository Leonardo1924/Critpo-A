{
 "cells": [
  {
   "cell_type": "markdown",
   "metadata": {},
   "source": [
    "# Cryptography (CC4017) -- Week 5"
   ]
  },
  {
   "cell_type": "markdown",
   "metadata": {},
   "source": [
    "### Extra 5"
   ]
  },
  {
   "cell_type": "markdown",
   "metadata": {},
   "source": [
    "**Q1: Collision resistant Hash Functions**\n",
    "\n",
    "Consider $ H : M → T $ a collision resistant hash function that takes messages of any size $ m ∈ M = \\{0, 1\\}^∗$\n",
    "and produces outputs with 64 bit length $t ∈ T = \\{0, 1\\}^64$.\n",
    "1. $ H´ = (H(m) || H(m) || H(m)) $\n",
    "2. $ H´ = H(m || m || m) $\n",
    "3. $ H´ = H(64) $ \n",
    "4. $ H´ = H(m||64) $\n",
    "5. $ H´ = H(m)[0 . . . 10] $ // truncate the output to 10 bits\n",
    "6. $ H´ = H(m[0 . . . |m|-2]) $ // hash m without its last bit\n",
    "7. $ H´ = H(m) || H(m ⊕ 1^{|m|})$\n",
    "8. $ H´ = H(m) \\ if \\ m = 0^{64} ∧ m = 1^{64},\\ H(m ⊕ 1|m| )$ otherwise\n",
    "\n",
    "**Question:** \n",
    "Which of the proposed hash constructions H' are also collision resistant?\n",
    ">\n",
    ">1. It's Collision Resistant. This simply concatenates three instances of H(m)H(m). If HH is collision-resistant, finding a collision for H′H′ requires finding a collision for HH\n",
    ">\n",
    ">2. It's Collision Resistant. The message m is repeated three times before hashing. However, if a collision exists for H, it would still hold in this construction since the input format doesn’t fundamentally change the collision properties\n",
    ">\n",
    ">3. Isn't Collision Resistant. This is a constant input to the hash function H. It doesn't depend on m, so every input produces the same hash output, making it trivially non-collision-resistant.\n",
    ">\n",
    ">4. It's Collision Resistant. This construction appends the constant 64 to m before hashing. Doesn't do much, if H is collision-resistant the function H' keep the property.\n",
    ">\n",
    ">5. Isn't Collision Resistant. By truncating the output of H to 10 bits, we significantly reduce the output space, making it much easier to find collisions (by the pigeonhole principle). \n",
    ">\n",
    ">6. Isn't Collision Resistant. While this might preserve some security properties, the modification of the input could introduce vulnerabilities, especially for short inputs. If two distinct messages differ only in their last bit, they would collide in H′\n",
    ">\n",
    ">7. It's Collision Resistant. In this m and m XORed with all ones (i.e., bitwise negation of m) are both hashed and concatenated. This construction depends on the distinctness of $H(m)$ and $H(m ⊕ 1^{∣m∣})$, which is likely robust if H is collision-resistant.\n",
    ">\n",
    ">8. It's Collision Resistant. This conditional hashing could introduce weaknesses if these cases overlap or behave inconsistently, but it likely remains collision-resistant if H is robust.\n"
   ]
  },
  {
   "cell_type": "markdown",
   "metadata": {},
   "source": [
    "**Q2: Rho method to find Hash collisions**\n",
    "\n",
    "![alt text](image.png)\n",
    "\n",
    "As described in [1], the Rho method is an algorithm for finding collisions that, unlike the naive birthday attack, requires only a small amount of memory. To find collision in hash function H(m), it works as\n",
    "follows.\n",
    "1. Given a hash function with n-bit values, pick some random hash value h1 and define $h'_1 = h_1$.\n",
    "\n",
    "2. Compute $h_2 = H(h_1)$ and $h'_2 = H(H(h'_1))$. \n",
    "In the first case, we apply the hash function once. In the second, we apply it twice.\n",
    "\n",
    "3. Iterate the process and compute $h_{i+1} = H(h_i)$ and $h'_{i+1} = H(H(h'_i))$, until you reach a i such that $h'_{i+1} = h_{i+1}$\n",
    "\n",
    "4. If this is the case, then you have found a loop within the possible hash values. How can we find the collision now? Check out this proof.\n",
    "\n",
    "Complete the code in **rho_exercise.py** to do this.\n",
    "\n",
    "• You must complete **function rho**, which is parametrized by an initial value\n",
    "\n",
    "• Function H computes hashes truncated as necessary.\n",
    "\n",
    "• You can adjust the global parameter during testing, but the goal is to find a collision in L = 5.\n",
    "\n",
    "Also include a succinct analysis of how long it takes to find these collisions, both in cycle iterations and real time. How does this scale with L?"
   ]
  },
  {
   "cell_type": "code",
   "execution_count": 29,
   "metadata": {},
   "outputs": [
    {
     "name": "stdout",
     "output_type": "stream",
     "text": [
      "Hash is 48 bits\n",
      "Collision detected:\n",
      "First value: e516d402a94f\n",
      "Hash of first value: 0bace0db6b43\n",
      "Second value: bc8651b23f20\n",
      "Hash of second value: 0bace0db6b43\n",
      "\n",
      "Time taken: 12.772124767303467 seconds\n",
      "Total attempts: 8957024\n"
     ]
    }
   ],
   "source": [
    "from cryptography.hazmat.primitives import hashes\n",
    "import os\n",
    "import time\n",
    "\n",
    "\n",
    "L = 6  # Set output hash length in bytes\n",
    "\n",
    "# Define a helper function for hashing, with fixed output size of LENGTH bytes\n",
    "def H(X):\n",
    "\tdigest = hashes.Hash(hashes.SHA256())\n",
    "\tdigest.update(X)\n",
    "\treturn (digest.finalize()[0:L])\n",
    "\n",
    "# Function to detect a hash collision using Floyd's cycle-finding algorithm\n",
    "def rho(h0):\n",
    "    print(\"Hash is \"+str(8*L)+\" bits\")\n",
    "\n",
    "    # Initialize the \"tortoise\" and \"hare\" starting points\n",
    "    tortoise = h0\n",
    "    hare = h0\n",
    "\n",
    "    attempts = 0\n",
    "\n",
    "    # Iterate until a collision is found\n",
    "    while True:\n",
    "        attempts += 1\n",
    "        begin_time = time.time()\n",
    "        next_hare = H(hare)\n",
    "        next_tortoise = H(H(tortoise))\n",
    "\n",
    "        tortoise = next_tortoise\n",
    "        hare = next_hare\n",
    "\n",
    "        if tortoise == hare:\n",
    "            break\n",
    "\n",
    "    # Trace back to find the exact collision points\n",
    "    if tortoise == hare:\n",
    "        tortoise = h0\n",
    "\n",
    "        while H(tortoise) != H(hare):\n",
    "            attempts += 1\n",
    "            tortoise = H(tortoise)\n",
    "            hare = H(hare)\n",
    "    \n",
    "        finish_time = time.time()\n",
    "        print(\"Collision detected:\")\n",
    "        print(f\"First value: {tortoise.hex()}\")\n",
    "        print(f\"Hash of first value: {H(tortoise).hex()}\")\n",
    "        print(f\"Second value: {hare.hex()}\")\n",
    "        print(f\"Hash of second value: {H(hare).hex()}\\n\")\n",
    "        print(f\"Time taken: {finish_time - begin_time} seconds\")\n",
    "        print(f\"Total attempts: {attempts}\")\n",
    "        return (tortoise, hare)\n",
    "    else:\n",
    "        print(\"No collision found.\")\n",
    "        return None\n",
    "\n",
    "# Generate a random starting point and find a collision\n",
    "start = os.urandom(L)\n",
    "(h0, h1) = rho(start)\n"
   ]
  },
  {
   "cell_type": "markdown",
   "metadata": {},
   "source": [
    ">**ANALYSIS** \n",
    ">\n",
    ">After some tests, for L = 5 it usually takes around between 1.8 second and 12 seconds, and between 340000 and 1950000 iterations.\n",
    ">\n",
    ">If we lower the L to 3, it takes significantly less. The lowest was 0.009 seconds and 2930 iterations, but mostly every one took around less then 0.1 second and 21000 iterations.\n",
    ">\n",
    "> With L = 6 takes a lot more time. Running just once we took 1m20s and 8957024 iterations."
   ]
  },
  {
   "cell_type": "markdown",
   "metadata": {},
   "source": [
    "**Q3: Weak ciphers**\n",
    "\n",
    "The code in **ciphersuite_fsr.py** contains a very poorly implemented \"stream cipher\".\n",
    "\n",
    "1. Consider the IND-CPA security experiment. How many calls to the encryption oracle do you have to do to succeed?\n",
    "\n",
    ">The functions of encryption(E) and decryption(D) both rely on LFSR to generate a pseudo-random keystream that is XORed with the plaintext or ciphertext. The LFSR does not reset between calls to E or D, meaning the internal state X remains the same. \n",
    ">\n",
    ">Two Points can be made from this:\n",
    ">\n",
    ">1.  The attacker can call enc() with a known plaintext and obtain the keystream directly, as XORing known plaintext with ciphertex reveals the keystream.\n",
    ">\n",
    ">2. The LFSR does not reinitialize with a unique seed for each message. The lack of per-encryption randomness makes it predictable.\n",
    ">\n",
    ">As result, in the excelent guess, the oracle just neeeds one call to reveal the keystream, if the attacker can't make a good guess it takes a max of 1009 calls to find the keystream.\n",
    "\n",
    "\n",
    "2. Describe how one can construct an attacker against the IND-CPA experiment running this encryption scheme.\n",
    "\n",
    "> We can exploit the encryption scheme's predictable keystream generation using the following method, we begin by generating two distinct plaintext messages, $M_0$​ and $M_1$​, ensuring they are of the same length. These messages are then submitted to the encryption oracle. Upon receiving these messages, the oracle returns the ciphertext of one of the plaintexts, encrypted using the keystream generated by an LFSR (Linear Feedback Shift Register) sequence starting from an initial state.\n",
    ">\n",
    "> Next step is extract the keystream. Due to the nature of the LFSR-based keystream generator, which lacks per-encryption variability or resetting, we can deduce the keystream by encrypting a known plaintext message and then XORing it with the resulting ciphertext. This operation directly reveals the keystream sequence.\n",
    ">\n",
    "> Finally, equipped with the extracted keystream, we can distinguish between the two original plaintexts. By XORing the oracle-provided ciphertext with the known keystream the original plaintext is recovered, thereby determining whether the ciphertext corresponds to $M_0$​ or $M_1$​. This attack succeeds because the stream cipher fails to provide unique randomness for each encryption instance.\n",
    "\n",
    "\n"
   ]
  }
 ],
 "metadata": {
  "kernelspec": {
   "display_name": "Python 3",
   "language": "python",
   "name": "python3"
  },
  "language_info": {
   "codemirror_mode": {
    "name": "ipython",
    "version": 3
   },
   "file_extension": ".py",
   "mimetype": "text/x-python",
   "name": "python",
   "nbconvert_exporter": "python",
   "pygments_lexer": "ipython3",
   "version": "3.12.6"
  }
 },
 "nbformat": 4,
 "nbformat_minor": 2
}
