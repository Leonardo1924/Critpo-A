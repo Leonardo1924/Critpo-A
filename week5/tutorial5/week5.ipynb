{
 "cells": [
  {
   "cell_type": "markdown",
   "metadata": {},
   "source": [
    "# Cryptography (CC4017) -- Week 5"
   ]
  },
  {
   "cell_type": "markdown",
   "metadata": {},
   "source": [
    "## Exercice 1\n",
    "\n",
    "Use OpenSSL to calculate the SHA256 value of the pdf slides of this week’s class. Check if it equals:\n",
    "\n",
    "> d51b15eeed16158b0a2d0d50c92e3b34f62140b7627b88dca62d4a27e8f0f569\n",
    "\n",
    "Command used:\n",
    "> openssl dgst -sha256 cryptoSlidesW5.pdf\n",
    "\n",
    "Result:\n",
    "> d51b15eeed16158b0a2d0d50c92e3b34f62140b7627b88dca62d4a27e8f0f569\n"
   ]
  },
  {
   "cell_type": "markdown",
   "metadata": {},
   "source": [
    "### Exercice 1.1\n",
    "\n",
    "What does this tell you about the integrity of the file?\n",
    "\n",
    "> Since the SHA256 value mathces the expected hask, it indicates that the file has not been altered/tampered with. The file has maintained its integrity. "
   ]
  },
  {
   "cell_type": "markdown",
   "metadata": {},
   "source": [
    "### Exercice 1.2\n",
    "\n",
    "Suppose you alter the first 4 bytes of the original pdf file, and recompute the SHA256 value of this altered file.\n",
    "How many bytes do you expect to be affected by this change?\n",
    "\n",
    "> In hash functions like SHA256, even a small change in the input (change 4 bytes of the PDF) will completely change the resulting hash. The avalanche effect causes a small change in the input to propagate throughout the entire hash output, making the new SHA256 look completely diferent from the original.\n",
    ">\n",
    "> Changing 4 bytes of the original pdf file only affects the hash representation of the file, that will change dramatically. So, the number of bytes affected in the has is 32 bytes, since SHA256 produces a 256-bit output hash, regardless of the file size.\n",
    "\n"
   ]
  },
  {
   "cell_type": "markdown",
   "metadata": {},
   "source": [
    "## Exercice 2\n",
    "\n",
    "Use python to crack the security of predictable passwords in crack_hash.py\n",
    "\n",
    "- The file has the twenty most common passwords of 2019. \n",
    "- The code produces hash values of passwords (salted and non-salted), then they are shuffled.\n",
    "- From the shuffled hashes and the list of most common passwords, retrieve the original passwords!\n",
    "- Is it faster to attack salted or unsalted hashes?\n",
    "- Include a succinct analysis of how long it takes to do these attacks.\n",
    "\n",
    "<br>\n",
    "\n",
    ">When comparing the velocity of attack for salted or unsalted hashes, we can see that unsalted hashes are much faster to attack because there's no need to account for the salt. We can just directly hash each password and compare it with the hash list. On the other side, salted hashes require brute-forcing the salt, which significantly increases the number of possibilities we need to check, the attack is slower.\n",
    ">\n",
    ">Unsalted attack completes very quickly, as it's a direct comparison. Salted attacks, however, takes longer because we need to try all possible 256 salt values for each password. The total time complexity for salted hashes would be approximately 256 times slower than unsalted hashes due to the brute-force nature of the salt attack.\n",
    ">\n",
    ">In the code given the salt value is the same for all the passwords (os.urandom(1)), using the same value diminishes the benefit of salting because cracking the salt for one password, can be used to crack all the other, that explains how the salted hashes were cracked quickly, the process is almost as fast as cracking the unsalted hashes."
   ]
  },
  {
   "cell_type": "markdown",
   "metadata": {},
   "source": [
    "## Exercice 3\n",
    "\n",
    "Use the tool available [here](http://alf.nu/SHA1) (or any other tool that works) to construct two PDFs with the same SHA-1 value.\n",
    "Check out the SHAttered paper and explain how the attack works.\n",
    "\n",
    "<br>\n",
    "\n",
    "> The SHAttered attack utilizes a number of mathematical weaknesses in SHA-1′s compression function. This attack is based on chosen-prefix collision, an attacker can forge two files/messages with different content that leads to the same hash value. That is not the same as a random collision, this happens when you hash two different input randomly and after all it results in the one.\n",
    ">\n",
    "> The process involves several steps:\n",
    ">\n",
    "> Collision Generation: Attackers create two different documents by altering the content. In order to achieve this, one usually has to change the contents of a subset of bytes in input files while fitting them into place during for SHA-1 hash function allowing it return the same (original) result.\n",
    ">\n",
    "> Differential Path: The SHA-1 method is built with the differential path, meaning if some modifications are certain not to affect your final hash output. To achieve this, one must be clear on the mathematical properties of SHA-1 and also understand how said hashing algorithm actually functions.\n",
    ">\n",
    "> Finalization: Both papers get finalized to ensure that they still end up with the same SHA-1 hash and thus each meets all conditions of being a valid file in our example PDFs\n",
    ">\n",
    "> The SHAttered attack is significant because it exposes the flaws in SHA-1 and emphasizes the need for more robust hashing algorithms, like SHA-256 or SHA-3. The ability to hash two distinct files to the same value can have detrimental effects on certifications, digital signatures, and data integrity in general.\n",
    ">\n",
    ">"
   ]
  },
  {
   "cell_type": "markdown",
   "metadata": {},
   "source": [
    "## Exercice 4\n",
    "\n",
    "A length extension attack works as follows.\n",
    "- Application generates secret key k, which is kept hidden\n",
    "- At some point application computes h = H(k||m) for some message m and publishes (m, h).\n",
    "- Intuitively it should be impossible for some attacker to compute \n",
    "H (k||m′) for m ̸= m′\n",
    ".\n",
    "- However, for some hash functions, it is possible to compute such a value using only (M, h). This technique has\n",
    "been explained in theoretical classes for the SHA-2 family. Demonstrate the attack by constructing:\n",
    "    - A Python program that generates k, computes h = SHA2(k||m) for some m and saves k, m and h into different files.\n",
    "    - Another Python program that reads m and h (but not k!) and generates some m′ and h′ into different files. Is must be the case that SHA2 (k||m′) = h′ and that m ̸= m′."
   ]
  },
  {
   "cell_type": "code",
   "execution_count": 1,
   "metadata": {},
   "outputs": [
    {
     "name": "stdout",
     "output_type": "stream",
     "text": [
      "\n",
      " Key, message, and hash written to files.\n",
      "\n"
     ]
    }
   ],
   "source": [
    "import os\n",
    "import hashlib\n",
    "\n",
    "k = os.urandom(16)\n",
    "m = b\"Hello, world!\"\n",
    "\n",
    "h = hashlib.sha256(k + m).hexdigest()\n",
    "\n",
    "with open('key.txt', 'wb') as key_file:\n",
    "    key_file.write(k)\n",
    "\n",
    "with open('message.txt', 'wb') as message_file:\n",
    "    message_file.write(m)\n",
    "\n",
    "with open('hash.txt', 'w') as hash_file:\n",
    "    hash_file.write(h)\n",
    "\n",
    "print(\"\\n Key, message, and hash written to files.\\n\")"
   ]
  },
  {
   "cell_type": "code",
   "execution_count": 4,
   "metadata": {},
   "outputs": [
    {
     "name": "stdout",
     "output_type": "stream",
     "text": [
      "\n",
      " New message and hash written to files.\n",
      "\n"
     ]
    }
   ],
   "source": [
    "import hashlib\n",
    "import struct\n",
    "\n",
    "with open('message.txt', 'rb') as message_file:\n",
    "    m = message_file.read()\n",
    "\n",
    "with open('hash.txt', 'r') as hash_file:\n",
    "    h = hash_file.read()\n",
    "\n",
    "m_prime = b\"Bye, world!\"\n",
    "\n",
    "message_length = len(m)\n",
    "\n",
    "def sha2_padding(message):\n",
    "    original_byte_length = len(message)\n",
    "    original_bit_length = original_byte_length * 8\n",
    "    padding = b'\\x80'\n",
    "    padding += b'\\x00' * ((56 - (original_byte_length + 1) % 64) % 64)\n",
    "    padding += struct.pack(b'>Q', original_bit_length)\n",
    "    return padding\n",
    "\n",
    "padding = sha2_padding(m)\n",
    "\n",
    "h_bytes = bytes.fromhex(h)\n",
    "sha256 = hashlib.sha256()\n",
    "sha256 = hashlib.new('sha256', h_bytes)\n",
    "sha256 = sha256.copy()\n",
    "\n",
    "sha256.update(m_prime)\n",
    "\n",
    "h_prime = sha256.hexdigest()\n",
    "\n",
    "with open('message_prime.txt', 'wb') as message_prime_file:\n",
    "    message_prime_file.write(m_prime)\n",
    "\n",
    "with open('hash_prime.txt', 'w') as hash_prime_file:\n",
    "    hash_prime_file.write(h_prime)\n",
    "\n",
    "print(\"\\n New message and hash written to files.\\n\")"
   ]
  }
 ],
 "metadata": {
  "kernelspec": {
   "display_name": "Python 3",
   "language": "python",
   "name": "python3"
  },
  "language_info": {
   "codemirror_mode": {
    "name": "ipython",
    "version": 3
   },
   "file_extension": ".py",
   "mimetype": "text/x-python",
   "name": "python",
   "nbconvert_exporter": "python",
   "pygments_lexer": "ipython3",
   "version": "3.12.6"
  }
 },
 "nbformat": 4,
 "nbformat_minor": 2
}
