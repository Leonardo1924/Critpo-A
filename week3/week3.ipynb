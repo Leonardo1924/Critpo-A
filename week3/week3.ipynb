{
 "cells": [
  {
   "cell_type": "markdown",
   "metadata": {},
   "source": [
    "# Cryptography (CC4017) -- Week 3"
   ]
  },
  {
   "cell_type": "markdown",
   "metadata": {},
   "source": [
    "## Exercice 1\n",
    "\n",
    "Use Python to encrypt a file in CBC mode and decrypt it. Check for success\n",
    "**https://cryptography.io/en/latest/hazmat/primitives/symmetric-encryption/**"
   ]
  },
  {
   "cell_type": "code",
   "execution_count": 2,
   "metadata": {},
   "outputs": [
    {
     "name": "stdout",
     "output_type": "stream",
     "text": [
      "b'\\xf8\\xa7\\xac\\x8f\\xa3\\x1a5\\x01\\xac\\xd5\\xfe\\xaab\\xf0\\x94QR\\x10h\\xa5\\xe5\\xe5b{Fh\\xaf0\\xa8R~<'\n",
      "b'\\xbb\\x11\\x96)\\x0c\\xfd_\\x0f\\xc5B\\x98\\xde0\\x16\\xe9\\xcc'\n",
      "b'\"CRIPTOGRAFIA E FIXE\"'\n"
     ]
    }
   ],
   "source": [
    "from cryptography.hazmat.primitives.ciphers import Cipher, algorithms, modes\n",
    "from cryptography.hazmat.backends import default_backend\n",
    "from os import urandom\n",
    "\n",
    "key = urandom(32) # AES-256 requires a 32 byte key\n",
    "iv = urandom(16) # AES block size is 16 bytes\n",
    "\n",
    "with open('plaintext.txt', 'rb') as f:\n",
    "    plaintext = f.read()\n",
    "\n",
    "cipher = Cipher(algorithms.AES(key), modes.CBC(iv), backend=default_backend)\n",
    "encryptor = cipher.encryptor()\n",
    "\n",
    "def pad(data):\n",
    "    pad_len = 16 - len(data) % 16\n",
    "    return data + bytes([pad_len] * pad_len)\n",
    "\n",
    "ciphertext = encryptor.update(pad(plaintext)) + encryptor.finalize()\n",
    "\n",
    "with open('ciphertext.txt', 'wb') as f:\n",
    "    f.write(iv + ciphertext)\n",
    "\n",
    "with open('ciphertext.txt', 'rb') as f:\n",
    "    iv = f.read(16)\n",
    "    ciphertext = f.read()\n",
    "\n",
    "cipher = Cipher(algorithms.AES(key), modes.CBC(iv), backend = default_backend)\n",
    "decryptor = cipher.decryptor()\n",
    "\n",
    "def unpad(data):\n",
    "    pad_len = data[-1]\n",
    "    return data[:-pad_len]\n",
    "\n",
    "plaintext_decrypted = unpad(decryptor.update(ciphertext) + decryptor.finalize())\n",
    "\n",
    "print(key)\n",
    "print(iv)\n",
    "print(plaintext_decrypted)"
   ]
  },
  {
   "cell_type": "markdown",
   "metadata": {},
   "source": [
    "## Exercice 2\n",
    "\n",
    "Repeat this process with OpenSSL <br>\n",
    "**https://www.openssl.org/docs/man1.1.1/man1/enc.html**"
   ]
  },
  {
   "cell_type": "markdown",
   "metadata": {
    "vscode": {
     "languageId": "perl"
    }
   },
   "source": [
    "> key = openssl rand -hex 32 <br>\n",
    "> iv = openssl rand -hex 16\n",
    "\n",
    "# Encrypt the file\n",
    "> openssl enc -aes-256-cbc -in plaintext.txt -out ciphertext.bin -K key -iv iv\n",
    "\n",
    "# Decrypt the file\n",
    "> openssl enc -aes-256-cbc -d -in ciphertext.bin -out decrypted.txt -K key -iv iv"
   ]
  },
  {
   "cell_type": "markdown",
   "metadata": {},
   "source": [
    "## Exercice 3\n",
    "\n",
    "Edit the file to change the value of (but not delete!) one byte and decrypt again.\n",
    "\n",
    "### Exercice 3.1\n",
    "\n",
    "What Happended?\n",
    "\n",
    "In CBC mode, changing one byte in the ciphertext will affect the decryption of not just the block containing the altered byte but also the following block. This happens because CBC mode chains each block's encryption, using the ciphertext from the previous block. The modified byte corrupts the decryption of the current block but propagates only to the next block, meaning that the rest of the ciphertext after the next block will still decrypt correctly. The block containing the modification will completely fail decryption due to the XOR dependency on the previous block's corrupted ciphertext.\n",
    "\n",
    "### Exercice 3.2\n",
    "Could you recover a file encrypted with CBC if the IV and the first ciphertext block were corrupted or lost?\n",
    "\n",
    "No, you cannot recover the file correctly. The initialization vector (IV) is essential for decrypting the first block, and the decryption of the first block affects subsequent blocks in CBC mode. If the IV or the first ciphertext block is lost or corrupted, the decryption process will fail for at least the first two blocks, and the data from these blocks cannot be recovered correctly.\n",
    "\n",
    "\n",
    "### Exercice 3.3\n",
    "Could you recover it if during a satellite transmission one bit of the ciphertext is not delivered?\n",
    "\n",
    "If one bit is lost during transmission, CBC mode will still decrypt, but with errors. A single-bit error in transmission will cause the decryption of the corresponding block to be entirely wrong. However, the error will not propagate beyond the next block, meaning subsequent blocks can still be decrypted correctly. This is because in CBC mode, each block is dependent on the previous block's ciphertext.\n",
    "\n",
    "### Exercice 3.4\n",
    "Could you modify a byte in the middle of a CBC encrypted file without fully re-encrypting it?\n",
    "\n",
    "No, you cannot modify a byte in the middle of a CBC-encrypted file without re-encrypting the file from that point onward. Since each block in CBC mode depends on the ciphertext of the previous block, changing any byte would require re-encrypting all subsequent blocks to maintain consistency."
   ]
  },
  {
   "cell_type": "markdown",
   "metadata": {},
   "source": [
    "## Exercice 4\n",
    "Repeat the exercise with CTR mode. What are the differences?"
   ]
  },
  {
   "cell_type": "code",
   "execution_count": 3,
   "metadata": {},
   "outputs": [],
   "source": [
    "from cryptography.hazmat.primitives.ciphers import Cipher, algorithms, modes\n",
    "\n",
    "key = urandom(32)\n",
    "nonce = urandom(16)\n",
    "\n",
    "# Encrypt\n",
    "cipher = Cipher(algorithms.AES(key), modes.CTR(nonce), backend=default_backend)\n",
    "encryptor = cipher.encryptor()\n",
    "ciphertext = encryptor.update(plaintext)\n",
    "\n",
    "# Decrypt\n",
    "cipher = Cipher(algorithms.AES(key), modes.CTR(nonce), backend=default_backend)\n",
    "decryptor = cipher.decryptor()\n",
    "plaintext_decrypted = decryptor.update(ciphertext)"
   ]
  },
  {
   "cell_type": "markdown",
   "metadata": {},
   "source": [
    "The key difference in CTR mode is that each block is encrypted independently. Thus, altering a byte in the ciphertext results in a corresponding change in the decrypted plaintext byte while leaving other parts of the plaintext intact."
   ]
  }
 ],
 "metadata": {
  "kernelspec": {
   "display_name": "Python 3",
   "language": "python",
   "name": "python3"
  },
  "language_info": {
   "codemirror_mode": {
    "name": "ipython",
    "version": 3
   },
   "file_extension": ".py",
   "mimetype": "text/x-python",
   "name": "python",
   "nbconvert_exporter": "python",
   "pygments_lexer": "ipython3",
   "version": "3.12.6"
  }
 },
 "nbformat": 4,
 "nbformat_minor": 2
}
